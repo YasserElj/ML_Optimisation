{
 "cells": [
  {
   "cell_type": "markdown",
   "metadata": {},
   "source": [
    "# Practical session on logistic regression"
   ]
  },
  {
   "cell_type": "code",
   "execution_count": 1,
   "metadata": {},
   "outputs": [
    {
     "name": "stdout",
     "output_type": "stream",
     "text": [
      "Requirement already satisfied: plotly_express in /home/yasser/miniconda3/lib/python3.12/site-packages (0.4.1)\n",
      "Requirement already satisfied: pandas>=0.20.0 in /home/yasser/miniconda3/lib/python3.12/site-packages (from plotly_express) (2.2.3)\n",
      "Requirement already satisfied: plotly>=4.1.0 in /home/yasser/miniconda3/lib/python3.12/site-packages (from plotly_express) (5.24.1)\n",
      "Requirement already satisfied: statsmodels>=0.9.0 in /home/yasser/miniconda3/lib/python3.12/site-packages (from plotly_express) (0.14.4)\n",
      "Requirement already satisfied: scipy>=0.18 in /home/yasser/miniconda3/lib/python3.12/site-packages (from plotly_express) (1.14.1)\n",
      "Requirement already satisfied: patsy>=0.5 in /home/yasser/miniconda3/lib/python3.12/site-packages (from plotly_express) (1.0.1)\n",
      "Requirement already satisfied: numpy>=1.11 in /home/yasser/miniconda3/lib/python3.12/site-packages (from plotly_express) (2.2.0)\n",
      "Requirement already satisfied: python-dateutil>=2.8.2 in /home/yasser/miniconda3/lib/python3.12/site-packages (from pandas>=0.20.0->plotly_express) (2.9.0.post0)\n",
      "Requirement already satisfied: pytz>=2020.1 in /home/yasser/miniconda3/lib/python3.12/site-packages (from pandas>=0.20.0->plotly_express) (2024.2)\n",
      "Requirement already satisfied: tzdata>=2022.7 in /home/yasser/miniconda3/lib/python3.12/site-packages (from pandas>=0.20.0->plotly_express) (2024.2)\n",
      "Requirement already satisfied: tenacity>=6.2.0 in /home/yasser/miniconda3/lib/python3.12/site-packages (from plotly>=4.1.0->plotly_express) (9.0.0)\n",
      "Requirement already satisfied: packaging in /home/yasser/miniconda3/lib/python3.12/site-packages (from plotly>=4.1.0->plotly_express) (24.1)\n",
      "Requirement already satisfied: six>=1.5 in /home/yasser/miniconda3/lib/python3.12/site-packages (from python-dateutil>=2.8.2->pandas>=0.20.0->plotly_express) (1.17.0)\n"
     ]
    }
   ],
   "source": [
    "import pandas as pd\n",
    "!pip install plotly_express\n",
    "import plotly_express as px\n",
    "import numpy as np\n",
    "import matplotlib.pyplot as plt\n",
    "import os\n",
    "from mpl_toolkits import mplot3d\n",
    "\n",
    "from plotly.offline import download_plotlyjs, init_notebook_mode\n",
    "from plotly.offline import plot, iplot"
   ]
  },
  {
   "cell_type": "markdown",
   "metadata": {},
   "source": [
    "# General Logistic regression class"
   ]
  },
  {
   "cell_type": "code",
   "execution_count": 2,
   "metadata": {},
   "outputs": [
    {
     "data": {
      "text/html": [
       "        <script type=\"text/javascript\">\n",
       "        window.PlotlyConfig = {MathJaxConfig: 'local'};\n",
       "        if (window.MathJax && window.MathJax.Hub && window.MathJax.Hub.Config) {window.MathJax.Hub.Config({SVG: {font: \"STIX-Web\"}});}\n",
       "        if (typeof require !== 'undefined') {\n",
       "        require.undef(\"plotly\");\n",
       "        requirejs.config({\n",
       "            paths: {\n",
       "                'plotly': ['https://cdn.plot.ly/plotly-2.35.2.min']\n",
       "            }\n",
       "        });\n",
       "        require(['plotly'], function(Plotly) {\n",
       "            window._Plotly = Plotly;\n",
       "        });\n",
       "        }\n",
       "        </script>\n",
       "        "
      ]
     },
     "metadata": {},
     "output_type": "display_data"
    }
   ],
   "source": [
    "#set notebook mode\n",
    "init_notebook_mode(connected=True)"
   ]
  },
  {
   "cell_type": "code",
   "execution_count": 3,
   "metadata": {},
   "outputs": [],
   "source": [
    "class LogisticRegression:\n",
    "    # Z = X*w+p => h(x)\n",
    "    def __init__(self, x_train, y_train, w, b, numOfTrainingItems, learning_rate):\n",
    "        self.x_train = x_train\n",
    "        self.y_train = y_train\n",
    "        self.w = w\n",
    "        self.b = b\n",
    "        self.numOfTrainingItems = numOfTrainingItems\n",
    "        self.learning_rate = learning_rate\n",
    "\n",
    "    # Sigmoid Function (Z = w*X+p) .. w=theta1 , p=theta0\n",
    "    def Sigmoid_Hypothesis(self, w, x, b):\n",
    "        z = np.dot(x,w)\n",
    "        return 1 / (1 + np.e ** -z)\n",
    "\n",
    "    # Cost Function\n",
    "    def Cost_Function(self):\n",
    "        hypothesis = self.Sigmoid_Hypothesis(self.w, self.x_train, self.b)\n",
    "        return np.dot((self.x_train.T, self.y_train - hypothesis))\n",
    "\n",
    "    # get the values of w,b by gradient descent\n",
    "    def gradient_descent(self):\n",
    "        hypothesis = self.Sigmoid_Hypothesis(self.w, self.x_train, self.b)\n",
    "        self.w += (self.learning_rate * np.dot(self.x_train.T,(self.y_train - hypothesis)) / self.numOfTrainingItems)\n",
    "        self.b += (self.learning_rate * np.sum(self.y_train - hypothesis) / self.numOfTrainingItems)\n",
    "        return [self.w, self.b]\n",
    "\n",
    "    # training the data\n",
    "    def train(self):\n",
    "        for i in range(10000):\n",
    "            self.w, self.b = self.gradient_descent()\n",
    "        return [self.w, self.b]\n",
    "\n",
    "    # predict new values\n",
    "    def predict(self, x_test):\n",
    "        hypothesis = self.Sigmoid_Hypothesis(self.w, x_test, self.b)\n",
    "        return [1 if val >= 0.5 else 0 for val in hypothesis]\n",
    "\n",
    "    def calc_accuracy(self, y_test, y_predicted):\n",
    "        cnt = 0\n",
    "        for i in range(len(y_test)):\n",
    "            if y_test[i] == y_predicted[i]:\n",
    "                cnt += 1\n",
    "        return cnt / len(y_test)\n"
   ]
  },
  {
   "cell_type": "markdown",
   "metadata": {},
   "source": [
    "# First test on consumer data"
   ]
  },
  {
   "cell_type": "code",
   "execution_count": 4,
   "metadata": {},
   "outputs": [],
   "source": [
    "# loading the data (req1)\n",
    "customerData = pd.read_csv('./customer_data.csv')"
   ]
  },
  {
   "cell_type": "code",
   "execution_count": 5,
   "metadata": {},
   "outputs": [
    {
     "data": {
      "text/html": [
       "<div>\n",
       "<style scoped>\n",
       "    .dataframe tbody tr th:only-of-type {\n",
       "        vertical-align: middle;\n",
       "    }\n",
       "\n",
       "    .dataframe tbody tr th {\n",
       "        vertical-align: top;\n",
       "    }\n",
       "\n",
       "    .dataframe thead th {\n",
       "        text-align: right;\n",
       "    }\n",
       "</style>\n",
       "<table border=\"1\" class=\"dataframe\">\n",
       "  <thead>\n",
       "    <tr style=\"text-align: right;\">\n",
       "      <th></th>\n",
       "      <th>age</th>\n",
       "      <th>salary</th>\n",
       "      <th>purchased</th>\n",
       "    </tr>\n",
       "  </thead>\n",
       "  <tbody>\n",
       "    <tr>\n",
       "      <th>164</th>\n",
       "      <td>51</td>\n",
       "      <td>134000</td>\n",
       "      <td>0</td>\n",
       "    </tr>\n",
       "    <tr>\n",
       "      <th>279</th>\n",
       "      <td>34</td>\n",
       "      <td>72000</td>\n",
       "      <td>0</td>\n",
       "    </tr>\n",
       "    <tr>\n",
       "      <th>256</th>\n",
       "      <td>21</td>\n",
       "      <td>16000</td>\n",
       "      <td>0</td>\n",
       "    </tr>\n",
       "    <tr>\n",
       "      <th>42</th>\n",
       "      <td>31</td>\n",
       "      <td>74000</td>\n",
       "      <td>0</td>\n",
       "    </tr>\n",
       "    <tr>\n",
       "      <th>325</th>\n",
       "      <td>49</td>\n",
       "      <td>141000</td>\n",
       "      <td>1</td>\n",
       "    </tr>\n",
       "    <tr>\n",
       "      <th>...</th>\n",
       "      <td>...</td>\n",
       "      <td>...</td>\n",
       "      <td>...</td>\n",
       "    </tr>\n",
       "    <tr>\n",
       "      <th>105</th>\n",
       "      <td>47</td>\n",
       "      <td>113000</td>\n",
       "      <td>1</td>\n",
       "    </tr>\n",
       "    <tr>\n",
       "      <th>218</th>\n",
       "      <td>30</td>\n",
       "      <td>89000</td>\n",
       "      <td>0</td>\n",
       "    </tr>\n",
       "    <tr>\n",
       "      <th>135</th>\n",
       "      <td>32</td>\n",
       "      <td>100000</td>\n",
       "      <td>1</td>\n",
       "    </tr>\n",
       "    <tr>\n",
       "      <th>113</th>\n",
       "      <td>28</td>\n",
       "      <td>84000</td>\n",
       "      <td>0</td>\n",
       "    </tr>\n",
       "    <tr>\n",
       "      <th>312</th>\n",
       "      <td>37</td>\n",
       "      <td>55000</td>\n",
       "      <td>0</td>\n",
       "    </tr>\n",
       "  </tbody>\n",
       "</table>\n",
       "<p>400 rows × 3 columns</p>\n",
       "</div>"
      ],
      "text/plain": [
       "     age  salary  purchased\n",
       "164   51  134000          0\n",
       "279   34   72000          0\n",
       "256   21   16000          0\n",
       "42    31   74000          0\n",
       "325   49  141000          1\n",
       "..   ...     ...        ...\n",
       "105   47  113000          1\n",
       "218   30   89000          0\n",
       "135   32  100000          1\n",
       "113   28   84000          0\n",
       "312   37   55000          0\n",
       "\n",
       "[400 rows x 3 columns]"
      ]
     },
     "execution_count": 5,
     "metadata": {},
     "output_type": "execute_result"
    }
   ],
   "source": [
    "\n",
    "# shuffle the data\n",
    "customerData.sample(frac=1)"
   ]
  },
  {
   "cell_type": "code",
   "execution_count": 6,
   "metadata": {},
   "outputs": [],
   "source": [
    "# X => values of features 1,2 (age, salary) & Y => values of output (purchased)\n",
    "NumberOfFeatures=2\n",
    "X = customerData.iloc[:, 0:2].values\n",
    "Y = customerData.iloc[:, 2:3].values\n",
    "# random initial values for w and b\n",
    "w = np.random.random((NumberOfFeatures, 1))\n",
    "b = np.random.random()"
   ]
  },
  {
   "cell_type": "code",
   "execution_count": 7,
   "metadata": {},
   "outputs": [],
   "source": [
    "# Feature Scaling using minmax normalization\n",
    "X0_temp = []\n",
    "X1_temp = []\n",
    "for i in X:\n",
    "    X0_temp.append(i[0])\n",
    "    X1_temp.append(i[1])\n",
    "minVal = min(X0_temp)\n",
    "maxVal = max(X0_temp)\n",
    "for i in range(len(X0_temp)):\n",
    "    X0_temp[i] = (X0_temp[i] - minVal) / (maxVal - minVal)\n",
    "\n",
    "minVal = min(X1_temp)\n",
    "maxVal = max(X1_temp)\n",
    "for i in range(len(X1_temp)):\n",
    "    X1_temp[i] = (X1_temp[i] - minVal) / (maxVal - minVal)\n",
    "\n",
    "X = X.astype(float)\n",
    "for i in range(len(X)):\n",
    "    X[i][0] = (X0_temp[i])\n",
    "    X[i][1] = (X1_temp[i])"
   ]
  },
  {
   "cell_type": "code",
   "execution_count": 8,
   "metadata": {},
   "outputs": [
    {
     "name": "stdout",
     "output_type": "stream",
     "text": [
      "Number of training points:  320\n",
      "X train shape: (320, 2)\n",
      "Y train shape: (320, 1)\n"
     ]
    }
   ],
   "source": [
    "# Split the dataset into training and testing sets (req2)\n",
    "X_Train = X[0:320]\n",
    "Y_Train = Y[0:320]\n",
    "X_Test = X[320:]\n",
    "Y_Test = Y[320:]\n",
    "numOfTrainingItems = int(X_Train.size / 2)\n",
    "print(\"Number of training points: \",numOfTrainingItems)\n",
    "print(\"X train shape:\",X_Train.shape)\n",
    "print(\"Y train shape:\",Y_Train.shape)"
   ]
  },
  {
   "cell_type": "code",
   "execution_count": 9,
   "metadata": {},
   "outputs": [],
   "source": [
    "# logistic regression (req3)\n",
    "LogisticReg = LogisticRegression(X_Train, Y_Train, w, b, numOfTrainingItems, 0.2)\n",
    "w, b = LogisticReg.train()"
   ]
  },
  {
   "cell_type": "markdown",
   "metadata": {},
   "source": [
    "### TODO: try with other splitting options for data"
   ]
  },
  {
   "cell_type": "code",
   "execution_count": 10,
   "metadata": {},
   "outputs": [
    {
     "name": "stdout",
     "output_type": "stream",
     "text": [
      "[1, 0, 1, 0, 0, 0, 0, 0, 0, 0, 0, 0, 1, 1, 0, 0, 0, 1, 1, 1, 0, 1, 0, 1, 0, 0, 0, 1, 1, 0, 0, 1, 0, 0, 1, 1, 0, 0, 1, 1, 1, 1, 0, 0, 0, 1, 0, 0, 1, 0, 0, 0, 0, 1, 0, 0, 0, 1, 1, 0, 0, 1, 0, 0, 1, 0, 0, 0, 1, 1, 1, 0, 0, 0, 0, 0, 0, 1, 0, 0]\n",
      "Accuracy : 58.75%\n"
     ]
    }
   ],
   "source": [
    "# predictions on new data (req4)\n",
    "Y_Predict = LogisticReg.predict(X_Test)\n",
    "print(f\"{Y_Predict}\")\n",
    "\n",
    "# Calculate the accuracy (req5)\n",
    "print(f\"Accuracy : {LogisticReg.calc_accuracy(Y_Test, Y_Predict) * 100}%\")"
   ]
  },
  {
   "cell_type": "markdown",
   "metadata": {},
   "source": [
    "# Second test on scikitlearn classification data"
   ]
  },
  {
   "cell_type": "code",
   "execution_count": 11,
   "metadata": {},
   "outputs": [
    {
     "name": "stdout",
     "output_type": "stream",
     "text": [
      "Requirement already satisfied: scikit-learn in /home/yasser/miniconda3/lib/python3.12/site-packages (1.6.0)\n",
      "Requirement already satisfied: numpy>=1.19.5 in /home/yasser/miniconda3/lib/python3.12/site-packages (from scikit-learn) (2.2.0)\n",
      "Requirement already satisfied: scipy>=1.6.0 in /home/yasser/miniconda3/lib/python3.12/site-packages (from scikit-learn) (1.14.1)\n",
      "Requirement already satisfied: joblib>=1.2.0 in /home/yasser/miniconda3/lib/python3.12/site-packages (from scikit-learn) (1.4.2)\n",
      "Requirement already satisfied: threadpoolctl>=3.1.0 in /home/yasser/miniconda3/lib/python3.12/site-packages (from scikit-learn) (3.5.0)\n"
     ]
    }
   ],
   "source": [
    "!pip install scikit-learn"
   ]
  },
  {
   "cell_type": "code",
   "execution_count": 12,
   "metadata": {},
   "outputs": [
    {
     "data": {
      "text/plain": [
       "0.9733333333333334"
      ]
     },
     "execution_count": 12,
     "metadata": {},
     "output_type": "execute_result"
    }
   ],
   "source": [
    "from sklearn.datasets import load_iris\n",
    "from sklearn.linear_model import LogisticRegression\n",
    "X, y = load_iris(return_X_y=True)\n",
    "clf = LogisticRegression(random_state=0,max_iter=500).fit(X, y)\n",
    "clf.score(X, y)"
   ]
  },
  {
   "cell_type": "markdown",
   "metadata": {},
   "source": [
    "### TODO: try with other settings, inspect the scikit-learn documentation"
   ]
  },
  {
   "cell_type": "code",
   "execution_count": null,
   "metadata": {},
   "outputs": [],
   "source": []
  }
 ],
 "metadata": {
  "kernelspec": {
   "display_name": "base",
   "language": "python",
   "name": "python3"
  },
  "language_info": {
   "codemirror_mode": {
    "name": "ipython",
    "version": 3
   },
   "file_extension": ".py",
   "mimetype": "text/x-python",
   "name": "python",
   "nbconvert_exporter": "python",
   "pygments_lexer": "ipython3",
   "version": "3.12.2"
  }
 },
 "nbformat": 4,
 "nbformat_minor": 4
}
