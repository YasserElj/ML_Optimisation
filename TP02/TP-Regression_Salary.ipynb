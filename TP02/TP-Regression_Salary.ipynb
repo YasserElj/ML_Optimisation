{
 "cells": [
  {
   "cell_type": "code",
   "execution_count": 1,
   "id": "af80a43d",
   "metadata": {},
   "outputs": [],
   "source": [
    "import pandas as pd\n",
    "# !pip install plotly_express\n",
    "import plotly_express as px\n",
    "import numpy as np\n",
    "import matplotlib.pyplot as plt\n",
    "import os\n",
    "from mpl_toolkits import mplot3d\n",
    "\n",
    "from plotly.offline import download_plotlyjs, init_notebook_mode\n",
    "from plotly.offline import plot, iplot\n"
   ]
  },
  {
   "cell_type": "code",
   "execution_count": 2,
   "id": "d1f1f296",
   "metadata": {},
   "outputs": [
    {
     "data": {
      "text/html": [
       "        <script type=\"text/javascript\">\n",
       "        window.PlotlyConfig = {MathJaxConfig: 'local'};\n",
       "        if (window.MathJax && window.MathJax.Hub && window.MathJax.Hub.Config) {window.MathJax.Hub.Config({SVG: {font: \"STIX-Web\"}});}\n",
       "        if (typeof require !== 'undefined') {\n",
       "        require.undef(\"plotly\");\n",
       "        requirejs.config({\n",
       "            paths: {\n",
       "                'plotly': ['https://cdn.plot.ly/plotly-2.35.2.min']\n",
       "            }\n",
       "        });\n",
       "        require(['plotly'], function(Plotly) {\n",
       "            window._Plotly = Plotly;\n",
       "        });\n",
       "        }\n",
       "        </script>\n",
       "        "
      ]
     },
     "metadata": {},
     "output_type": "display_data"
    }
   ],
   "source": [
    "#set notebook mode\n",
    "init_notebook_mode(connected=True)"
   ]
  },
  {
   "cell_type": "code",
   "execution_count": 4,
   "id": "5ac4982d",
   "metadata": {},
   "outputs": [
    {
     "name": "stdout",
     "output_type": "stream",
     "text": [
      "/home/yasser/code/TP02\n"
     ]
    },
    {
     "data": {
      "text/html": [
       "<div>\n",
       "<style scoped>\n",
       "    .dataframe tbody tr th:only-of-type {\n",
       "        vertical-align: middle;\n",
       "    }\n",
       "\n",
       "    .dataframe tbody tr th {\n",
       "        vertical-align: top;\n",
       "    }\n",
       "\n",
       "    .dataframe thead th {\n",
       "        text-align: right;\n",
       "    }\n",
       "</style>\n",
       "<table border=\"1\" class=\"dataframe\">\n",
       "  <thead>\n",
       "    <tr style=\"text-align: right;\">\n",
       "      <th></th>\n",
       "      <th>Position</th>\n",
       "      <th>Level</th>\n",
       "      <th>Salary</th>\n",
       "    </tr>\n",
       "  </thead>\n",
       "  <tbody>\n",
       "    <tr>\n",
       "      <th>0</th>\n",
       "      <td>Business Analyst</td>\n",
       "      <td>1</td>\n",
       "      <td>45000</td>\n",
       "    </tr>\n",
       "    <tr>\n",
       "      <th>1</th>\n",
       "      <td>Junior Consultant</td>\n",
       "      <td>2</td>\n",
       "      <td>50000</td>\n",
       "    </tr>\n",
       "    <tr>\n",
       "      <th>2</th>\n",
       "      <td>Senior Consultant</td>\n",
       "      <td>3</td>\n",
       "      <td>60000</td>\n",
       "    </tr>\n",
       "    <tr>\n",
       "      <th>3</th>\n",
       "      <td>Manager</td>\n",
       "      <td>4</td>\n",
       "      <td>80000</td>\n",
       "    </tr>\n",
       "    <tr>\n",
       "      <th>4</th>\n",
       "      <td>Country Manager</td>\n",
       "      <td>5</td>\n",
       "      <td>110000</td>\n",
       "    </tr>\n",
       "  </tbody>\n",
       "</table>\n",
       "</div>"
      ],
      "text/plain": [
       "            Position  Level  Salary\n",
       "0   Business Analyst      1   45000\n",
       "1  Junior Consultant      2   50000\n",
       "2  Senior Consultant      3   60000\n",
       "3            Manager      4   80000\n",
       "4    Country Manager      5  110000"
      ]
     },
     "execution_count": 4,
     "metadata": {},
     "output_type": "execute_result"
    }
   ],
   "source": [
    "#read data using panda frame\n",
    "import os\n",
    "print(os.getcwd())\n",
    "#df = pd.read_csv(\"TP-Regression/possum.csv\")\n",
    "df = pd.read_csv(\"./Position_Salaries.csv\")\n",
    "# df = df.drop('case', axis=1)\n",
    "df.head()"
   ]
  },
  {
   "cell_type": "code",
   "execution_count": 5,
   "id": "7b3367f0",
   "metadata": {},
   "outputs": [
    {
     "data": {
      "text/plain": [
       "Position    10\n",
       "Level       10\n",
       "Salary      10\n",
       "dtype: int64"
      ]
     },
     "execution_count": 5,
     "metadata": {},
     "output_type": "execute_result"
    }
   ],
   "source": [
    "# count the number of valid features\n",
    "df.count()"
   ]
  },
  {
   "cell_type": "code",
   "execution_count": 6,
   "id": "0fae4031",
   "metadata": {},
   "outputs": [
    {
     "data": {
      "text/html": [
       "<div>\n",
       "<style scoped>\n",
       "    .dataframe tbody tr th:only-of-type {\n",
       "        vertical-align: middle;\n",
       "    }\n",
       "\n",
       "    .dataframe tbody tr th {\n",
       "        vertical-align: top;\n",
       "    }\n",
       "\n",
       "    .dataframe thead th {\n",
       "        text-align: right;\n",
       "    }\n",
       "</style>\n",
       "<table border=\"1\" class=\"dataframe\">\n",
       "  <thead>\n",
       "    <tr style=\"text-align: right;\">\n",
       "      <th></th>\n",
       "      <th>Level</th>\n",
       "      <th>Salary</th>\n",
       "    </tr>\n",
       "  </thead>\n",
       "  <tbody>\n",
       "    <tr>\n",
       "      <th>count</th>\n",
       "      <td>10.00000</td>\n",
       "      <td>10.000000</td>\n",
       "    </tr>\n",
       "    <tr>\n",
       "      <th>mean</th>\n",
       "      <td>5.50000</td>\n",
       "      <td>249500.000000</td>\n",
       "    </tr>\n",
       "    <tr>\n",
       "      <th>std</th>\n",
       "      <td>3.02765</td>\n",
       "      <td>299373.883668</td>\n",
       "    </tr>\n",
       "    <tr>\n",
       "      <th>min</th>\n",
       "      <td>1.00000</td>\n",
       "      <td>45000.000000</td>\n",
       "    </tr>\n",
       "    <tr>\n",
       "      <th>25%</th>\n",
       "      <td>3.25000</td>\n",
       "      <td>65000.000000</td>\n",
       "    </tr>\n",
       "    <tr>\n",
       "      <th>50%</th>\n",
       "      <td>5.50000</td>\n",
       "      <td>130000.000000</td>\n",
       "    </tr>\n",
       "    <tr>\n",
       "      <th>75%</th>\n",
       "      <td>7.75000</td>\n",
       "      <td>275000.000000</td>\n",
       "    </tr>\n",
       "    <tr>\n",
       "      <th>max</th>\n",
       "      <td>10.00000</td>\n",
       "      <td>1000000.000000</td>\n",
       "    </tr>\n",
       "  </tbody>\n",
       "</table>\n",
       "</div>"
      ],
      "text/plain": [
       "          Level          Salary\n",
       "count  10.00000       10.000000\n",
       "mean    5.50000   249500.000000\n",
       "std     3.02765   299373.883668\n",
       "min     1.00000    45000.000000\n",
       "25%     3.25000    65000.000000\n",
       "50%     5.50000   130000.000000\n",
       "75%     7.75000   275000.000000\n",
       "max    10.00000  1000000.000000"
      ]
     },
     "execution_count": 6,
     "metadata": {},
     "output_type": "execute_result"
    }
   ],
   "source": [
    "# show some information about the data frame\n",
    "df.describe()"
   ]
  },
  {
   "cell_type": "code",
   "execution_count": 7,
   "id": "198e2f19",
   "metadata": {},
   "outputs": [
    {
     "name": "stdout",
     "output_type": "stream",
     "text": [
      "<class 'pandas.core.frame.DataFrame'>\n",
      "RangeIndex: 10 entries, 0 to 9\n",
      "Data columns (total 3 columns):\n",
      " #   Column    Non-Null Count  Dtype \n",
      "---  ------    --------------  ----- \n",
      " 0   Position  10 non-null     object\n",
      " 1   Level     10 non-null     int64 \n",
      " 2   Salary    10 non-null     int64 \n",
      "dtypes: int64(2), object(1)\n",
      "memory usage: 372.0+ bytes\n"
     ]
    }
   ],
   "source": [
    "# extract information about the input data\n",
    "df.info()"
   ]
  },
  {
   "cell_type": "code",
   "execution_count": 8,
   "id": "c8d0a37a",
   "metadata": {},
   "outputs": [],
   "source": [
    "# extract the number of sample points\n",
    "n_rows = df.shape[0]"
   ]
  },
  {
   "cell_type": "code",
   "execution_count": 9,
   "id": "8b6eca1b",
   "metadata": {},
   "outputs": [],
   "source": [
    "# extract some X data to predict ouput\n",
    "# chest and belly also works out\n",
    "X=df['Level'].to_numpy().reshape(n_rows)\n",
    "#extract some Y data\n",
    "y=df['Salary'].to_numpy().reshape(n_rows)"
   ]
  },
  {
   "cell_type": "code",
   "execution_count": 10,
   "id": "3e6a822b",
   "metadata": {},
   "outputs": [
    {
     "data": {
      "text/plain": [
       "((10,), (10,))"
      ]
     },
     "execution_count": 10,
     "metadata": {},
     "output_type": "execute_result"
    }
   ],
   "source": [
    "# ensure that he dimensions are OK\n",
    "X.shape, y.shape"
   ]
  },
  {
   "cell_type": "code",
   "execution_count": 11,
   "id": "9812cd8e",
   "metadata": {},
   "outputs": [
    {
     "data": {
      "image/png": "[encoded data removed]",
      "text/plain": [
       "<Figure size 640x480 with 1 Axes>"
      ]
     },
     "metadata": {},
     "output_type": "display_data"
    }
   ],
   "source": [
    "# plot the input data\n",
    "plt.scatter(X,y)\n",
    "plt.xlabel('X'); plt.ylabel('y');\n",
    "plt.title('Input dataset');"
   ]
  },
  {
   "cell_type": "markdown",
   "id": "592b8cb2",
   "metadata": {},
   "source": [
    "# First regression method using least square\n",
    "$Ax \\approx y$\n"
   ]
  },
  {
   "cell_type": "code",
   "execution_count": 12,
   "id": "53971fa5",
   "metadata": {},
   "outputs": [
    {
     "name": "stdout",
     "output_type": "stream",
     "text": [
      "shape of A: (10, 2)\n"
     ]
    }
   ],
   "source": [
    "#A = np.vstack([X[:,0], np.ones(n_rows)]).T\n",
    "A=np.c_[X,np.ones(len(X))]\n",
    "print(\"shape of A:\",A.shape)"
   ]
  },
  {
   "cell_type": "code",
   "execution_count": 13,
   "id": "6aeaefb7",
   "metadata": {},
   "outputs": [
    {
     "name": "stdout",
     "output_type": "stream",
     "text": [
      "[[1. 1.]\n",
      " [2. 1.]\n",
      " [3. 1.]\n",
      " [4. 1.]\n",
      " [5. 1.]]\n"
     ]
    }
   ],
   "source": [
    "print(A[0:5,:])"
   ]
  },
  {
   "cell_type": "code",
   "execution_count": 14,
   "id": "4e3270d8",
   "metadata": {},
   "outputs": [
    {
     "name": "stdout",
     "output_type": "stream",
     "text": [
      "[  80878.78787879 -195333.33333333]\n"
     ]
    }
   ],
   "source": [
    "### YOUR CODE HERE, compute the solution using the pseudo inverse of A\n",
    "# Manually compute the pseudoinverse of A\n",
    "\n",
    "# Compute A^T * A\n",
    "A_T = A.T                                # Transpose of A\n",
    "A_T_A = A_T @ A                          # A^T * A\n",
    "\n",
    "# Add regularization term alpha * I\n",
    "\n",
    "\n",
    "# Compute the inverse of (A^T * A + alpha * I)\n",
    "A_T_A_inv = np.linalg.inv(A_T_A) # Inverse\n",
    "\n",
    "# Compute A^T * y\n",
    "A_T_y = A_T @ y\n",
    "\n",
    "# Compute the solution X\n",
    "alfa = A_T_A_inv @ A_T_y\n",
    "\n",
    "print(alfa)"
   ]
  },
  {
   "cell_type": "code",
   "execution_count": 15,
   "id": "b64e4fe3",
   "metadata": {},
   "outputs": [
    {
     "data": {
      "image/png": "[encoded data removed]",
      "text/plain": [
       "<Figure size 1000x800 with 1 Axes>"
      ]
     },
     "metadata": {},
     "output_type": "display_data"
    }
   ],
   "source": [
    "# plot the result\n",
    "plt.figure(figsize = (10,8))\n",
    "plt.plot(X, y, 'b.')\n",
    "z = np.linspace(np.min(X),np.max(X))\n",
    "plt.plot(z, alfa[0]*z + alfa[1], 'r')\n",
    "y_pred=A@alfa\n",
    "#plt.plot(X, y_pred, 'g')\n",
    "plt.xlabel('x')\n",
    "plt.ylabel('y')\n",
    "plt.show()"
   ]
  },
  {
   "cell_type": "code",
   "execution_count": 16,
   "id": "eeeec571",
   "metadata": {},
   "outputs": [
    {
     "name": "stdout",
     "output_type": "stream",
     "text": [
      "[  80878.78787879 -195333.33333333]\n"
     ]
    }
   ],
   "source": [
    "# another possibility is the use of the pseudo inverse of numpy\n",
    "# search numpy documentation of pseudo inverse\n",
    "pinv = np.linalg.pinv(A)\n",
    "alpha = pinv.dot(y)\n",
    "print(alpha)"
   ]
  },
  {
   "cell_type": "code",
   "execution_count": 17,
   "id": "57f79eb5",
   "metadata": {},
   "outputs": [
    {
     "name": "stdout",
     "output_type": "stream",
     "text": [
      "[  80878.7886826  -195333.33910808]\n"
     ]
    }
   ],
   "source": [
    "# last possibility with scipy optimize function\n",
    "from scipy import optimize\n",
    "def func(x, a, b):\n",
    "    y = a*x + b\n",
    "    return y\n",
    "alpha = optimize.curve_fit(func, xdata = X, ydata = y)[0]\n",
    "print(alpha)"
   ]
  },
  {
   "cell_type": "code",
   "execution_count": 18,
   "id": "c4d90859",
   "metadata": {},
   "outputs": [],
   "source": [
    "def cost(A,theta,y):\n",
    "    return np.sqrt(np.mean(np.matmul(A,theta) - y)**2)"
   ]
  },
  {
   "cell_type": "code",
   "execution_count": 19,
   "id": "036e2666",
   "metadata": {},
   "outputs": [
    {
     "name": "stdout",
     "output_type": "stream",
     "text": [
      "X shape (10,)\n",
      "A shape (10, 2)\n",
      "alpha shape (2,)\n",
      "y shape (10,)\n",
      "res shape  (10,)\n",
      "Residuals:  516680.547223125\n",
      "Residuals explicit:  26695878787.87879\n",
      "Cost 0.0013537563732825219\n"
     ]
    }
   ],
   "source": [
    "#Compute residuals\n",
    "print(\"X shape\",X.shape)\n",
    "print(\"A shape\",A.shape)\n",
    "print(\"alpha shape\",alpha.shape)\n",
    "print(\"y shape\",y.shape)\n",
    "res = np.dot(A,alpha) - y\n",
    "res = A @ alpha - y\n",
    "print(\"res shape \",res.shape)\n",
    "print(\"Residuals: \",np.linalg.norm(res))\n",
    "print(\"Residuals explicit: \",sum((res)**2)/n_rows)\n",
    "print(\"Cost\",cost(A,alpha,y))"
   ]
  },
  {
   "cell_type": "code",
   "execution_count": 20,
   "id": "6b36590d",
   "metadata": {},
   "outputs": [
    {
     "name": "stdout",
     "output_type": "stream",
     "text": [
      "Residuals:  3780080.3163052634\n"
     ]
    },
    {
     "data": {
      "image/png": "[encoded data removed]",
      "text/plain": [
       "<Figure size 1000x800 with 1 Axes>"
      ]
     },
     "metadata": {},
     "output_type": "display_data"
    }
   ],
   "source": [
    "# dummy test with another beta\n",
    "beta=np.array([[0.9],[40]])\n",
    "res2 = A @ beta - y\n",
    "print(\"Residuals: \",np.linalg.norm(res2))\n",
    "# plot the result\n",
    "plt.figure(figsize = (10,8))\n",
    "plt.plot(X, y, 'b.')\n",
    "z = np.linspace(np.min(X),np.max(X))\n",
    "plt.plot(z, beta[0]*z + beta[1], 'g')\n",
    "plt.xlabel('x')\n",
    "plt.ylabel('y')\n",
    "plt.show()"
   ]
  },
  {
   "cell_type": "markdown",
   "id": "8660bc83",
   "metadata": {},
   "source": [
    "# Add ridge regularization\n"
   ]
  },
  {
   "cell_type": "code",
   "execution_count": 21,
   "id": "7ec6eb49",
   "metadata": {},
   "outputs": [
    {
     "name": "stdout",
     "output_type": "stream",
     "text": [
      "[  79541.59003366 -186117.56949023]\n",
      "Residuals with ridge:  516856.794208816\n"
     ]
    }
   ],
   "source": [
    "lam=1\n",
    "# add ridge regularization\n",
    "\n",
    "### YOUR CODE HERE, compute the solution using the pseudo inverse of A\n",
    "# Manually compute the pseudoinverse of A\n",
    "\n",
    "# Compute A^T * A\n",
    "A_T = A.T                                # Transpose of A\n",
    "A_T_A = A_T @ A                          # A^T * A\n",
    "\n",
    "# Add regularization term alpha * I\n",
    "n = A_T_A.shape[0]                       # Size of the square matrix A^T * A\n",
    "I = np.eye(n)                            # Identity matrix\n",
    "lamda = 0.1\n",
    "A_T_A_reg = A_T_A + lamda * I            # A^T * A + alpha * I\n",
    "\n",
    "# Compute the inverse of (A^T * A + alpha * I)\n",
    "A_T_A_reg_inv = np.linalg.inv(A_T_A_reg) # Inverse\n",
    "\n",
    "# Compute A^T * y\n",
    "A_T_y = A_T @ y\n",
    "\n",
    "# Compute the solution X\n",
    "alpha_ridge = A_T_A_reg_inv @ A_T_y\n",
    "\n",
    "print(alpha_ridge)\n",
    "res_ridge =A @ alpha_ridge - y\n",
    "print(\"Residuals with ridge: \",np.linalg.norm(res_ridge))"
   ]
  },
  {
   "cell_type": "code",
   "execution_count": 22,
   "id": "a22ae632",
   "metadata": {},
   "outputs": [
    {
     "data": {
      "image/png": "[encoded data removed]",
      "text/plain": [
       "<Figure size 1000x800 with 1 Axes>"
      ]
     },
     "metadata": {},
     "output_type": "display_data"
    }
   ],
   "source": [
    "# plot the result\n",
    "plt.figure(figsize = (10,8))\n",
    "plt.plot(X, y, 'b.')\n",
    "z = np.linspace(np.min(X),np.max(X))\n",
    "plt.plot(z, alpha_ridge[0]*z + alpha_ridge[1], 'g')\n",
    "plt.xlabel('x')\n",
    "plt.ylabel('y')\n",
    "plt.show()"
   ]
  },
  {
   "cell_type": "markdown",
   "id": "fef95674",
   "metadata": {},
   "source": [
    "# Non-linear regression"
   ]
  },
  {
   "cell_type": "code",
   "execution_count": 23,
   "id": "e9673494",
   "metadata": {},
   "outputs": [
    {
     "data": {
      "text/plain": [
       "Position    10\n",
       "Level       10\n",
       "Salary      10\n",
       "dtype: int64"
      ]
     },
     "execution_count": 23,
     "metadata": {},
     "output_type": "execute_result"
    }
   ],
   "source": [
    "# check non linear relationships\n",
    "df.count()"
   ]
  },
  {
   "cell_type": "code",
   "execution_count": 26,
   "id": "5da08bcb",
   "metadata": {},
   "outputs": [
    {
     "data": {
      "image/png": "[encoded data removed]",
      "text/plain": [
       "<Figure size 640x480 with 1 Axes>"
      ]
     },
     "metadata": {},
     "output_type": "display_data"
    }
   ],
   "source": [
    "# plot the input data\n",
    "plt.scatter(X,y)\n",
    "plt.xlabel(x_label); plt.ylabel(y_label);\n",
    "plt.title('Input dataset');"
   ]
  },
  {
   "cell_type": "code",
   "execution_count": 27,
   "id": "51a3c37d",
   "metadata": {},
   "outputs": [
    {
     "name": "stdout",
     "output_type": "stream",
     "text": [
      "shape of A2: (10, 3)\n"
     ]
    }
   ],
   "source": [
    "# put the data in matrix form\n",
    "A2=np.c_[X**2,X,np.ones(len(X))]\n",
    "print(\"shape of A2:\",A2.shape)"
   ]
  },
  {
   "cell_type": "code",
   "execution_count": 28,
   "id": "44d3819c",
   "metadata": {},
   "outputs": [
    {
     "name": "stdout",
     "output_type": "stream",
     "text": [
      "[  19431.81818182 -132871.21212121  232166.66666667]\n"
     ]
    }
   ],
   "source": [
    "# Use of the pseudo inverse of numpy to get regression coefficients\n",
    "pinv2 = np.linalg.pinv(A2)\n",
    "alpha2 = pinv2.dot(y)\n",
    "print(alpha2)"
   ]
  },
  {
   "cell_type": "code",
   "execution_count": 30,
   "id": "2916d4bb",
   "metadata": {},
   "outputs": [
    {
     "data": {
      "image/png": "[encoded data removed]",
      "text/plain": [
       "<Figure size 1000x800 with 1 Axes>"
      ]
     },
     "metadata": {},
     "output_type": "display_data"
    }
   ],
   "source": [
    "# plot the result\n",
    "# plot the result\n",
    "plt.figure(figsize = (10,8))\n",
    "plt.plot(X, y, 'b.')\n",
    "z = np.linspace(np.min(X),np.max(X))\n",
    "plt.plot(z, alpha2[0]*z*z + alpha2[1]*z+alpha2[2], 'g')\n",
    "plt.xlabel(\"Level\"); plt.ylabel(\"Salary\");\n",
    "plt.title('Polynomial regression');\n",
    "plt.show()"
   ]
  },
  {
   "cell_type": "markdown",
   "id": "412266ae",
   "metadata": {},
   "source": [
    "## Additional work:\n",
    "\n",
    "Load in memory the position salary dataset (https://www.kaggle.com/datasets/shimayaghoubian/position-salaries), since the csv file is provided. Inspect the data and try various polynomial regression of salary versus level\n"
   ]
  },
  {
   "cell_type": "code",
   "execution_count": null,
   "id": "4a9a2cb6",
   "metadata": {},
   "outputs": [],
   "source": []
  }
 ],
 "metadata": {
  "kernelspec": {
   "display_name": "base",
   "language": "python",
   "name": "python3"
  },
  "language_info": {
   "codemirror_mode": {
    "name": "ipython",
    "version": 3
   },
   "file_extension": ".py",
   "mimetype": "text/x-python",
   "name": "python",
   "nbconvert_exporter": "python",
   "pygments_lexer": "ipython3",
   "version": "3.12.2"
  }
 },
 "nbformat": 4,
 "nbformat_minor": 5
}
