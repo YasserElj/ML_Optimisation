{
 "cells": [
  {
   "cell_type": "code",
   "execution_count": null,
   "id": "af80a43d",
   "metadata": {},
   "outputs": [],
   "source": [
    "import pandas as pd\n",
    "!pip install plotly_express\n",
    "import plotly_express as px\n",
    "import numpy as np\n",
    "import matplotlib.pyplot as plt\n",
    "import os\n",
    "from mpl_toolkits import mplot3d\n",
    "\n",
    "from plotly.offline import download_plotlyjs, init_notebook_mode\n",
    "from plotly.offline import plot, iplot\n"
   ]
  },
  {
   "cell_type": "code",
   "execution_count": null,
   "id": "d1f1f296",
   "metadata": {},
   "outputs": [],
   "source": [
    "#set notebook mode\n",
    "init_notebook_mode(connected=True)"
   ]
  },
  {
   "cell_type": "code",
   "execution_count": null,
   "id": "5ac4982d",
   "metadata": {},
   "outputs": [],
   "source": [
    "#read data using panda frame\n",
    "import os\n",
    "print(os.getcwd())\n",
    "#df = pd.read_csv(\"TP-Regression/possum.csv\")\n",
    "df = pd.read_csv(\"./possum.csv\")\n",
    "df = df.drop('case', axis=1)\n",
    "df.head()"
   ]
  },
  {
   "cell_type": "code",
   "execution_count": null,
   "id": "7b3367f0",
   "metadata": {},
   "outputs": [],
   "source": [
    "# count the number of valid features\n",
    "df.count()"
   ]
  },
  {
   "cell_type": "code",
   "execution_count": null,
   "id": "0fae4031",
   "metadata": {},
   "outputs": [],
   "source": [
    "# show some information about the data frame\n",
    "df.describe()"
   ]
  },
  {
   "cell_type": "code",
   "execution_count": null,
   "id": "85b5c440",
   "metadata": {},
   "outputs": [],
   "source": [
    "# fill in the missing data\n",
    "df[\"age\"] = df[\"age\"].fillna(df[\"age\"].mean())\n",
    "df[\"footlgth\"] = df[\"footlgth\"].fillna(df[\"footlgth\"].mean())"
   ]
  },
  {
   "cell_type": "code",
   "execution_count": null,
   "id": "198e2f19",
   "metadata": {},
   "outputs": [],
   "source": [
    "# extract information about the input data\n",
    "df.info()"
   ]
  },
  {
   "cell_type": "code",
   "execution_count": null,
   "id": "c8d0a37a",
   "metadata": {},
   "outputs": [],
   "source": [
    "# extract the number of sample points\n",
    "n_rows = df.shape[0]"
   ]
  },
  {
   "cell_type": "code",
   "execution_count": null,
   "id": "8b6eca1b",
   "metadata": {},
   "outputs": [],
   "source": [
    "# extract some X data to predict ouput\n",
    "# chest and belly also works out\n",
    "X=df['skullw'].to_numpy().reshape(n_rows)\n",
    "#extract some Y data\n",
    "y=df['hdlngth'].to_numpy().reshape(n_rows)"
   ]
  },
  {
   "cell_type": "code",
   "execution_count": null,
   "id": "ca9d7fed",
   "metadata": {},
   "outputs": [],
   "source": []
  },
  {
   "cell_type": "code",
   "execution_count": null,
   "id": "3e6a822b",
   "metadata": {},
   "outputs": [],
   "source": [
    "# ensure that he dimensions are OK\n",
    "X.shape, y.shape"
   ]
  },
  {
   "cell_type": "code",
   "execution_count": null,
   "id": "9812cd8e",
   "metadata": {},
   "outputs": [],
   "source": [
    "# plot the input data\n",
    "plt.scatter(X,y)\n",
    "plt.xlabel('X'); plt.ylabel('y');\n",
    "plt.title('Input dataset');"
   ]
  },
  {
   "cell_type": "markdown",
   "id": "592b8cb2",
   "metadata": {},
   "source": [
    "# First regression method using least square\n",
    "$Ax \\approx y$\n"
   ]
  },
  {
   "cell_type": "code",
   "execution_count": null,
   "id": "53971fa5",
   "metadata": {},
   "outputs": [],
   "source": [
    "#A = np.vstack([X[:,0], np.ones(n_rows)]).T\n",
    "A=np.c_[X,np.ones(len(X))]\n",
    "print(\"shape of A:\",A.shape)"
   ]
  },
  {
   "cell_type": "code",
   "execution_count": null,
   "id": "6aeaefb7",
   "metadata": {},
   "outputs": [],
   "source": [
    "print(A[0:5,:])"
   ]
  },
  {
   "cell_type": "code",
   "execution_count": null,
   "id": "4e3270d8",
   "metadata": {},
   "outputs": [],
   "source": [
    "### YOUR CODE HERE, compute the solution using the pseudo inverse of A\n",
    "alpha = ### YOUR CODE HERE\n",
    "print(alpha)"
   ]
  },
  {
   "cell_type": "code",
   "execution_count": null,
   "id": "b64e4fe3",
   "metadata": {},
   "outputs": [],
   "source": [
    "# plot the result\n",
    "plt.figure(figsize = (10,8))\n",
    "plt.plot(X, y, 'b.')\n",
    "z = np.linspace(np.min(X),np.max(X))\n",
    "plt.plot(z, alpha[0]*z + alpha[1], 'r')\n",
    "y_pred=A@alpha\n",
    "#plt.plot(X, y_pred, 'g')\n",
    "plt.xlabel('x')\n",
    "plt.ylabel('y')\n",
    "plt.show()"
   ]
  },
  {
   "cell_type": "code",
   "execution_count": null,
   "id": "eeeec571",
   "metadata": {},
   "outputs": [],
   "source": [
    "# another possibility is the use of the pseudo inverse of numpy\n",
    "# search numpy documentation of pseudo inverse\n",
    "pinv = # YOUR CODE HERE\n",
    "alpha = pinv.dot(y)\n",
    "print(alpha)"
   ]
  },
  {
   "cell_type": "code",
   "execution_count": null,
   "id": "57f79eb5",
   "metadata": {},
   "outputs": [],
   "source": [
    "# last possibility with scipy optimize function\n",
    "from scipy import optimize\n",
    "def func(x, a, b):\n",
    "    y = a*x + b\n",
    "    return y\n",
    "alpha = optimize.curve_fit(func, xdata = X, ydata = y)[0]\n",
    "print(alpha)"
   ]
  },
  {
   "cell_type": "code",
   "execution_count": null,
   "id": "c4d90859",
   "metadata": {},
   "outputs": [],
   "source": [
    "def cost(A,theta,y):\n",
    "    return np.sqrt(np.mean(np.matmul(A,theta) - y)**2)"
   ]
  },
  {
   "cell_type": "code",
   "execution_count": null,
   "id": "036e2666",
   "metadata": {},
   "outputs": [],
   "source": [
    "#Compute residuals\n",
    "print(\"X shape\",X.shape)\n",
    "print(\"A shape\",A.shape)\n",
    "print(\"alpha shape\",alpha.shape)\n",
    "print(\"y shape\",y.shape)\n",
    "res = np.dot(A,alpha) - y\n",
    "res = A @ alpha - y\n",
    "print(\"res shape \",res.shape)\n",
    "print(\"Residuals: \",np.linalg.norm(res))\n",
    "print(\"Residuals explicit: \",sum((res)**2)/n_rows)\n",
    "print(\"Cost\",cost(A,alpha,y))"
   ]
  },
  {
   "cell_type": "code",
   "execution_count": null,
   "id": "6b36590d",
   "metadata": {},
   "outputs": [],
   "source": [
    "# dummy test with another beta\n",
    "beta=np.array([[0.9],[40]])\n",
    "res2 = A @ beta - y\n",
    "print(\"Residuals: \",np.linalg.norm(res2))\n",
    "# plot the result\n",
    "plt.figure(figsize = (10,8))\n",
    "plt.plot(X, y, 'b.')\n",
    "z = np.linspace(np.min(X),np.max(X))\n",
    "plt.plot(z, beta[0]*z + beta[1], 'g')\n",
    "plt.xlabel('x')\n",
    "plt.ylabel('y')\n",
    "plt.show()"
   ]
  },
  {
   "cell_type": "markdown",
   "id": "8660bc83",
   "metadata": {},
   "source": [
    "# Add ridge regularization\n"
   ]
  },
  {
   "cell_type": "code",
   "execution_count": null,
   "id": "7ec6eb49",
   "metadata": {},
   "outputs": [],
   "source": [
    "lam=1\n",
    "# add ridge regularization\n",
    "alpha_ridge = ## YOUR CODE HERE\n",
    "print(alpha_ridge)\n",
    "res_ridge =A @ alpha_ridge - y\n",
    "print(\"Residuals with ridge: \",np.linalg.norm(res_ridge))"
   ]
  },
  {
   "cell_type": "code",
   "execution_count": null,
   "id": "a22ae632",
   "metadata": {},
   "outputs": [],
   "source": [
    "# plot the result\n",
    "plt.figure(figsize = (10,8))\n",
    "plt.plot(X, y, 'b.')\n",
    "z = np.linspace(np.min(X),np.max(X))\n",
    "plt.plot(z, alpha_ridge[0]*z + alpha_ridge[1], 'g')\n",
    "plt.xlabel('x')\n",
    "plt.ylabel('y')\n",
    "plt.show()"
   ]
  },
  {
   "cell_type": "markdown",
   "id": "fef95674",
   "metadata": {},
   "source": [
    "# Non-linear regression"
   ]
  },
  {
   "cell_type": "code",
   "execution_count": null,
   "id": "e9673494",
   "metadata": {},
   "outputs": [],
   "source": [
    "# check non linear relationships\n",
    "df.count()"
   ]
  },
  {
   "cell_type": "code",
   "execution_count": null,
   "id": "5da08bcb",
   "metadata": {},
   "outputs": [],
   "source": [
    "x_label='footlgth'\n",
    "y_label='hdlngth'\n",
    "# extract some X data to predict ouput\n",
    "X=df[x_label].to_numpy().reshape(n_rows)\n",
    "#extract some Y data\n",
    "y=df[y_label].to_numpy().reshape(n_rows)\n",
    "# plot the input data\n",
    "plt.scatter(X,y)\n",
    "plt.xlabel(x_label); plt.ylabel(y_label);\n",
    "plt.title('Input dataset');"
   ]
  },
  {
   "cell_type": "code",
   "execution_count": null,
   "id": "51a3c37d",
   "metadata": {},
   "outputs": [],
   "source": [
    "# put the data in matrix form\n",
    "A2=np.c_[X**2,X,np.ones(len(X))]\n",
    "print(\"shape of A2:\",A2.shape)"
   ]
  },
  {
   "cell_type": "code",
   "execution_count": null,
   "id": "44d3819c",
   "metadata": {},
   "outputs": [],
   "source": [
    "# Use of the pseudo inverse of numpy to get regression coefficients\n",
    "pinv2 = np.linalg.pinv(A2)\n",
    "alpha2 = pinv.dot(y)\n",
    "print(alpha2)"
   ]
  },
  {
   "cell_type": "code",
   "execution_count": null,
   "id": "2916d4bb",
   "metadata": {},
   "outputs": [],
   "source": [
    "# plot the result\n",
    "# plot the result\n",
    "plt.figure(figsize = (10,8))\n",
    "plt.plot(X, y, 'b.')\n",
    "z = np.linspace(np.min(X),np.max(X))\n",
    "plt.plot(z, alpha2[0]*z*z + alpha2[1]*z+alpha2[2], 'g')\n",
    "plt.xlabel(x_label); plt.ylabel(y_label);\n",
    "plt.title('Polynomial regression');\n",
    "plt.show()"
   ]
  },
  {
   "cell_type": "markdown",
   "id": "412266ae",
   "metadata": {},
   "source": [
    "## Additional work:\n",
    "\n",
    "Load in memory the position salary dataset (https://www.kaggle.com/datasets/shimayaghoubian/position-salaries), since the csv file is provided. Inspect the data and try various polynomial regression of salary versus level\n"
   ]
  },
  {
   "cell_type": "code",
   "execution_count": null,
   "id": "4a9a2cb6",
   "metadata": {},
   "outputs": [],
   "source": []
  }
 ],
 "metadata": {
  "kernelspec": {
   "display_name": "base",
   "language": "python",
   "name": "python3"
  },
  "language_info": {
   "codemirror_mode": {
    "name": "ipython",
    "version": 3
   },
   "file_extension": ".py",
   "mimetype": "text/x-python",
   "name": "python",
   "nbconvert_exporter": "python",
   "pygments_lexer": "ipython3",
   "version": "3.12.2"
  }
 },
 "nbformat": 4,
 "nbformat_minor": 5
}
